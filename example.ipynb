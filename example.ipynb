{
 "cells": [
  {
   "cell_type": "code",
   "execution_count": 5,
   "metadata": {},
   "outputs": [],
   "source": [
    "from utils.postprocessing import apply_spherical_extension_to_mask\n",
    "from utils.preprocessing import buildLabelArrayFromNRRDsegFile\n",
    "import os\n",
    "import SimpleITK as sitk\n",
    "import matplotlib.pyplot as plt\n",
    "import numpy as np"
   ]
  },
  {
   "cell_type": "code",
   "execution_count": 10,
   "metadata": {},
   "outputs": [
    {
     "data": {
      "text/plain": [
       "16"
      ]
     },
     "execution_count": 10,
     "metadata": {},
     "output_type": "execute_result"
    }
   ],
   "source": [
    "path = '/Users/ikboljon.sobirov/Documents/aorta/adiporedox_orig/'\n",
    "\n",
    "patients = os.listdir(path)\n",
    "len(patients)\n",
    "patients = [p for p in patients if \"EXCLUDE\" not in p]\n",
    "patients = [p for p in patients if \".DS_Store\" not in p]\n",
    "patients = [p for p in patients if \".nrrd\" not in p]\n",
    "\n",
    "\n",
    "len(patients)"
   ]
  },
  {
   "cell_type": "code",
   "execution_count": 13,
   "metadata": {},
   "outputs": [
    {
     "name": "stdout",
     "output_type": "stream",
     "text": [
      "Processing: R746\n",
      "Maximum and minimum x values: 106 37\n",
      "[0. 1.] (210, 180, 180)\n"
     ]
    }
   ],
   "source": [
    "for p in patients:\n",
    "    print(\"Processing:\", p)\n",
    "    ao_path = os.path.join(path, p, (p+'_aorta.seg.nrrd'))\n",
    "    peri_aorta = apply_spherical_extension_to_mask(ao_path, radius=3)\n",
    "    save_arr = sitk.GetImageFromArray(peri_aorta)\n",
    "    print(np.unique(peri_aorta), peri_aorta.shape)\n",
    "    # sitk.WriteImage(save_arr, os.path.join(path, p, (p+'_aw.seg.nrrd')), True)\n",
    "    break"
   ]
  },
  {
   "cell_type": "code",
   "execution_count": null,
   "metadata": {},
   "outputs": [],
   "source": []
  }
 ],
 "metadata": {
  "kernelspec": {
   "display_name": "sega",
   "language": "python",
   "name": "python3"
  },
  "language_info": {
   "codemirror_mode": {
    "name": "ipython",
    "version": 3
   },
   "file_extension": ".py",
   "mimetype": "text/x-python",
   "name": "python",
   "nbconvert_exporter": "python",
   "pygments_lexer": "ipython3",
   "version": "3.9.16"
  }
 },
 "nbformat": 4,
 "nbformat_minor": 2
}
